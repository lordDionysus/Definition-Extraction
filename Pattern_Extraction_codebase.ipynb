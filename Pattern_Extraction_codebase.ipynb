{
 "cells": [
  {
   "cell_type": "markdown",
   "metadata": {
    "id": "i0074WUzYVaj"
   },
   "source": [
    "# Import"
   ]
  },
  {
   "cell_type": "code",
   "execution_count": null,
   "metadata": {
    "colab": {
     "base_uri": "https://localhost:8080/"
    },
    "id": "QytgRuu3XE42",
    "outputId": "d20b1061-23ba-43d5-bb5f-a5364456332c"
   },
   "outputs": [],
   "source": [
    "import numpy as np\n",
    "import pandas as pd\n",
    "# import gdown\n",
    "from scipy import spatial\n",
    "import spacy\n",
    "import nltk\n",
    "from nltk.corpus import stopwords\n",
    "nltk.download('stopwords')\n",
    "stop_words = stopwords.words(\"english\")\n",
    "from tqdm.notebook import tqdm\n",
    "from random import shuffle\n",
    "# from rouge import Rouge\n",
    "from tqdm.notebook import tqdm\n",
    "import re\n",
    "import os\n",
    "import torch\n",
    "import pandas as pd\n",
    "# from skimage import io, transform\n",
    "import numpy as np\n",
    "import matplotlib.pyplot as plt\n",
    "from torch.utils.data import Dataset, DataLoader\n",
    "from torchvision import transforms, utils\n",
    "import copy\n",
    "from tqdm.notebook import tqdm"
   ]
  },
  {
   "cell_type": "code",
   "execution_count": null,
   "metadata": {
    "id": "H180nDYrXL7y"
   },
   "outputs": [],
   "source": [
    "model_type = 't5-base\n",
    "model_location = # path\n",
    "config_path = # path\n",
    "tokenizer_path = # path"
   ]
  },
  {
   "cell_type": "code",
   "execution_count": null,
   "metadata": {
    "id": "zNj3ZC4_X3c9"
   },
   "outputs": [],
   "source": [
    "%%capture\n",
    "from transformers import AutoTokenizer, AutoConfig, AutoModelForSeq2SeqLM, BartTokenizer\n",
    "# config = AutoConfig.from_pretrained(config_path)\n",
    "tokenizer = BartTokenizer.from_pretrained(tokenizer_path)\n",
    "model = AutoModelForSeq2SeqLM.from_pretrained(model_location)\n",
    "config = model.config   "
   ]
  },
  {
   "cell_type": "code",
   "execution_count": null,
   "metadata": {
    "id": "I614TJVXaFSE"
   },
   "outputs": [],
   "source": [
    "model.to('cpu')"
   ]
  },
  {
   "cell_type": "code",
   "execution_count": null,
   "metadata": {
    "id": "ks27a63fX_WH"
   },
   "outputs": [],
   "source": [
    "import json\n",
    "f = open(PATH,encoding=\"utf8\")\n",
    "data = json.load(f)\n",
    "f.close()"
   ]
  },
  {
   "cell_type": "markdown",
   "metadata": {
    "id": "yXckL8uhYYe5"
   },
   "source": [
    "# Code"
   ]
  },
  {
   "cell_type": "code",
   "execution_count": null,
   "metadata": {
    "id": "HzwiVVq-ZjeJ"
   },
   "outputs": [],
   "source": [
    "# params\n",
    "device = 'cpu'"
   ]
  },
  {
   "cell_type": "code",
   "execution_count": null,
   "metadata": {
    "id": "DrVxJq3SYZ1-"
   },
   "outputs": [],
   "source": [
    "def process(sents):\n",
    "    final_list = []\n",
    "    for sent in sents:\n",
    "        if(len(sent)<4): continue\n",
    "        if sent.isnumeric(): continue\n",
    "        # print(sent)\n",
    "        sent = \" \".join(sent.split())\n",
    "        # print(sent)\n",
    "        final_list.append(sent.replace('\\r',''))\n",
    "    return final_list\n",
    "\n",
    "\n",
    "stopwords = ['what', 'who','overview', 'overviews', 'where','a', 'an']\n",
    "def filter_words(sen):\n",
    "    querywords = sen.split()\n",
    "    resultwords  = [word for word in querywords if word.lower() not in stopwords]\n",
    "    result = ' '.join(resultwords)\n",
    "    result = result.replace('?',\"\")\n",
    "    result = result.replace('-',\"\")\n",
    "    return result"
   ]
  },
  {
   "cell_type": "code",
   "execution_count": null,
   "metadata": {
    "id": "kufdSWaYjxqs"
   },
   "outputs": [],
   "source": [
    "def convert_to_nl(all_patterns):\n",
    "    for i, data in enumerate(all_patterns):\n",
    "        if 't5' in model_type:\n",
    "            prefix = \"summarize: \"\n",
    "        else:\n",
    "            prefix = \"\"\n",
    "        if(len(data['topic'])<3): continue\n",
    "        input_text =  prefix + 'what is ' + data['topic'] + '; ' + data['text']\n",
    "        encoding = tokenizer.encode_plus(input_text,pad_to_max_length=True, return_tensors=\"pt\", max_length=512)\n",
    "        input_ids, attention_masks = encoding[\"input_ids\"].to('cuda'), encoding[\"attention_mask\"].to('cuda')\n",
    "        beam_outputs = model.generate(\n",
    "        input_ids=input_ids, attention_mask=attention_masks,\n",
    "        do_sample=True,\n",
    "        max_length=120,\n",
    "        top_k=10000,\n",
    "        top_p=0.98,\n",
    "        early_stopping=False)\n",
    "        for beam_output in beam_outputs:\n",
    "            all_patterns[i]['definition'] = tokenizer.decode(beam_output, skip_special_tokens=True,clean_up_tokenization_spaces=True)\n",
    "    return all_patterns"
   ]
  },
  {
   "cell_type": "code",
   "execution_count": null,
   "metadata": {
    "id": "ejYSCEuEm8Y2"
   },
   "outputs": [],
   "source": [
    "def what_is_module(sent):\n",
    "    pattern = re.compile(r'what.is[^a-z]', re.I)\n",
    "    corpus = []\n",
    "    for ind, sen in enumerate(sent):\n",
    "        sen = \" \".join(sen.split())\n",
    "        if pattern.match(sen):\n",
    "            if(len(sen.split())>6):continue\n",
    "            matches = pattern.match(sen)\n",
    "            x = dict()\n",
    "            x['text'] = ''\n",
    "            x['sentence'] = sen\n",
    "            if(len(sen)<9):continue\n",
    "            if(sen[matches.span()[1]:][-1] =='?' or sen[matches.span()[1]:][-1] =='.'):\n",
    "                x['topic'] =  filter_words(sen[matches.span()[1]:][:-1])\n",
    "            else: x['topic'] =  filter_words(sen[matches.span()[1]:])\n",
    "            for i in range(include_lines):\n",
    "                if ((ind + i) < len(sent)-1): \n",
    "                    x['text'] += sent[i+ind+1]\n",
    "                    x['text'] += '. '\n",
    "            corpus.append(x)\n",
    "    return corpus"
   ]
  },
  {
   "cell_type": "code",
   "execution_count": null,
   "metadata": {
    "id": "QKJDKQvc4bl8"
   },
   "outputs": [],
   "source": [
    "def overview_module(sent):\n",
    "    corpus = []\n",
    "    for ind, sen in enumerate(sent):\n",
    "        if \"overview\" in sen:\n",
    "            if(len(sen.split(\" \"))>5 or 'http' in sen):continue\n",
    "            x = dict()\n",
    "            x['topic'] = filter_words(sen)\n",
    "            x['sentence'] = sen\n",
    "            x['text'] = ''\n",
    "            for i in range(include_lines):\n",
    "                if ((ind + i) < len(sent)-1): \n",
    "                    x['text'] += sent[i+ind+1]\n",
    "                    x['text'] += '. '\n",
    "            corpus.append(x)\n",
    "    return corpus"
   ]
  },
  {
   "cell_type": "code",
   "execution_count": null,
   "metadata": {
    "id": "-ENhl1U_ZYe6"
   },
   "outputs": [],
   "source": [
    "def extract_patterns(text, include_lines =6):\n",
    "    text = text.replace(r'\\r','')\n",
    "    sent = process(text.split('\\n'))\n",
    "    include_2 = 1\n",
    "    all_patterns = []\n",
    "    all_patterns.extend(what_is_module(sent))\n",
    "    all_patterns.extend(overview_module(sent))\n",
    "\n",
    "    all_patterns = convert_to_nl(all_patterns)\n",
    "    return all_patterns"
   ]
  },
  {
   "cell_type": "code",
   "execution_count": null,
   "metadata": {
    "colab": {
     "base_uri": "https://localhost:8080/",
     "height": 66,
     "referenced_widgets": [
      "5aae455ed0164e748614cf13194ef9e7",
      "0013ea1c15484ef58a2380ac65d7243b",
      "8fb1319436914287affd8d49094d0ec4",
      "10f568b7d6334b49bf403b9d402d9f1f",
      "47ac5113de3a42d499fd9c3cbf57aadf",
      "5654761bbdd84cf986a10447ee5129f1",
      "336361b3c574449cbd2eab9eef98346a",
      "b6d303e03921459e9564b4511308f99b"
     ]
    },
    "id": "uC6UGO2cYmm0",
    "outputId": "227834ad-bd18-4368-d05f-072d07e32326"
   },
   "outputs": [],
   "source": [
    "include_lines = 6\n",
    "pattern_exist = []\n",
    "for ind, ppt in enumerate(tqdm(data)):\n",
    "    x = dict()\n",
    "    content = extract_patterns(ppt['FileContent'])\n",
    "    if(len(content)>0):\n",
    "        x[\"data\"] = content\n",
    "        x['id'] = ppt['Id']\n",
    "        x['url'] = ppt['Url']\n",
    "        pattern_exist.append(x)"
   ]
  },
  {
   "cell_type": "code",
   "execution_count": null,
   "metadata": {
    "colab": {
     "base_uri": "https://localhost:8080/"
    },
    "id": "RpvX2q9EdPuC",
    "outputId": "602b7505-a3d8-4eaf-83ce-140e85c40a7a"
   },
   "outputs": [],
   "source": [
    "pattern_exist[0]"
   ]
  },
  {
   "cell_type": "code",
   "execution_count": null,
   "metadata": {
    "id": "6vjmKyxVaj_I"
   },
   "outputs": [],
   "source": [
    "def_list = []\n",
    "for ppt in pattern_exist:\n",
    "    for topics in ppt['data']:\n",
    "        try:def_list.append([ppt['id'],ppt['url'],topics['topic'], topics['text'], topics['definition']])\n",
    "        except: continue"
   ]
  },
  {
   "cell_type": "code",
   "execution_count": null,
   "metadata": {
    "id": "YrXRgqmedyC9"
   },
   "outputs": [],
   "source": [
    "dz = pd.DataFrame(def_list, columns = ['id','url', 'topic','text','definition'])"
   ]
  },
  {
   "cell_type": "code",
   "execution_count": null,
   "metadata": {
    "id": "NpGh0Lq5d1d_"
   },
   "outputs": [],
   "source": [
    "dz"
   ]
  },
  {
   "cell_type": "code",
   "execution_count": null,
   "metadata": {
    "id": "ETVQXLJubhJs"
   },
   "outputs": [],
   "source": [
    "dz = pd.DataFrame(def_list, columns = ['id','url', 'topic','text','definition'])\n",
    "dz.to_csv(PATH, index = False)"
   ]
  },
  {
   "cell_type": "code",
   "execution_count": null,
   "metadata": {
    "colab": {
     "base_uri": "https://localhost:8080/"
    },
    "id": "3SnfLHDTQ_mI",
    "outputId": "b09f5818-dc88-4f3f-a7f5-5e80073daa8d"
   },
   "outputs": [],
   "source": [
    "cnt =0 \n",
    "for i in pattern_exist:\n",
    "    for j in i['data']:\n",
    "        print(j['topic'])\n",
    "        cnt+=1\n",
    "cnt"
   ]
  },
  {
   "cell_type": "markdown",
   "metadata": {
    "id": "F9-N24OWY33X"
   },
   "source": [
    "# Extra Exp"
   ]
  },
  {
   "cell_type": "code",
   "execution_count": null,
   "metadata": {
    "colab": {
     "base_uri": "https://localhost:8080/"
    },
    "id": "NBVMIrpv8rXZ",
    "outputId": "613bac39-62c3-4713-d1fd-6841e795ab68"
   },
   "outputs": [],
   "source": [
    "#get NER\n",
    "\n",
    "from nltk import ne_chunk, pos_tag, word_tokenize\n",
    "from nltk.tree import Tree\n",
    "nltk.download('averaged_perceptron_tagger')\n",
    "nltk.download('maxent_ne_chunker')\n",
    "nltk.download('words')\n",
    "\n",
    "def get_continuous_chunks(text):\n",
    "    chunked = ne_chunk(pos_tag(word_tokenize(text)))\n",
    "    continuous_chunk = []\n",
    "    current_chunk = []\n",
    "    for i in chunked:\n",
    "            if type(i) == Tree:\n",
    "                    current_chunk.append(\" \".join([token for token, pos in i.leaves()]))\n",
    "            if current_chunk:\n",
    "                    named_entity = \" \".join(current_chunk)\n",
    "                    if named_entity not in continuous_chunk:\n",
    "                            continuous_chunk.append(named_entity)\n",
    "                            current_chunk = []\n",
    "            else:\n",
    "                    continue\n",
    "    return continuous_chunk\n"
   ]
  }
 ],
 "metadata": {
  "accelerator": "GPU",
  "colab": {
   "name": "Pattern Extraction codebase.ipynb",
   "provenance": [],
   "toc_visible": true
  },
  "kernelspec": {
   "display_name": "Python 3",
   "language": "python",
   "name": "python3"
  },
  "language_info": {
   "codemirror_mode": {
    "name": "ipython",
    "version": 3
   },
   "file_extension": ".py",
   "mimetype": "text/x-python",
   "name": "python",
   "nbconvert_exporter": "python",
   "pygments_lexer": "ipython3",
   "version": "3.8.5"
  },
  "widgets": {
   "application/vnd.jupyter.widget-state+json": {
    "0013ea1c15484ef58a2380ac65d7243b": {
     "model_module": "@jupyter-widgets/base",
     "model_name": "LayoutModel",
     "state": {
      "_model_module": "@jupyter-widgets/base",
      "_model_module_version": "1.2.0",
      "_model_name": "LayoutModel",
      "_view_count": null,
      "_view_module": "@jupyter-widgets/base",
      "_view_module_version": "1.2.0",
      "_view_name": "LayoutView",
      "align_content": null,
      "align_items": null,
      "align_self": null,
      "border": null,
      "bottom": null,
      "display": null,
      "flex": null,
      "flex_flow": null,
      "grid_area": null,
      "grid_auto_columns": null,
      "grid_auto_flow": null,
      "grid_auto_rows": null,
      "grid_column": null,
      "grid_gap": null,
      "grid_row": null,
      "grid_template_areas": null,
      "grid_template_columns": null,
      "grid_template_rows": null,
      "height": null,
      "justify_content": null,
      "justify_items": null,
      "left": null,
      "margin": null,
      "max_height": null,
      "max_width": null,
      "min_height": null,
      "min_width": null,
      "object_fit": null,
      "object_position": null,
      "order": null,
      "overflow": null,
      "overflow_x": null,
      "overflow_y": null,
      "padding": null,
      "right": null,
      "top": null,
      "visibility": null,
      "width": null
     }
    },
    "10f568b7d6334b49bf403b9d402d9f1f": {
     "model_module": "@jupyter-widgets/controls",
     "model_name": "HTMLModel",
     "state": {
      "_dom_classes": [],
      "_model_module": "@jupyter-widgets/controls",
      "_model_module_version": "1.5.0",
      "_model_name": "HTMLModel",
      "_view_count": null,
      "_view_module": "@jupyter-widgets/controls",
      "_view_module_version": "1.5.0",
      "_view_name": "HTMLView",
      "description": "",
      "description_tooltip": null,
      "layout": "IPY_MODEL_b6d303e03921459e9564b4511308f99b",
      "placeholder": "​",
      "style": "IPY_MODEL_336361b3c574449cbd2eab9eef98346a",
      "value": " 526/526 [00:00&lt;00:00, 706.97it/s]"
     }
    },
    "336361b3c574449cbd2eab9eef98346a": {
     "model_module": "@jupyter-widgets/controls",
     "model_name": "DescriptionStyleModel",
     "state": {
      "_model_module": "@jupyter-widgets/controls",
      "_model_module_version": "1.5.0",
      "_model_name": "DescriptionStyleModel",
      "_view_count": null,
      "_view_module": "@jupyter-widgets/base",
      "_view_module_version": "1.2.0",
      "_view_name": "StyleView",
      "description_width": ""
     }
    },
    "47ac5113de3a42d499fd9c3cbf57aadf": {
     "model_module": "@jupyter-widgets/controls",
     "model_name": "ProgressStyleModel",
     "state": {
      "_model_module": "@jupyter-widgets/controls",
      "_model_module_version": "1.5.0",
      "_model_name": "ProgressStyleModel",
      "_view_count": null,
      "_view_module": "@jupyter-widgets/base",
      "_view_module_version": "1.2.0",
      "_view_name": "StyleView",
      "bar_color": null,
      "description_width": "initial"
     }
    },
    "5654761bbdd84cf986a10447ee5129f1": {
     "model_module": "@jupyter-widgets/base",
     "model_name": "LayoutModel",
     "state": {
      "_model_module": "@jupyter-widgets/base",
      "_model_module_version": "1.2.0",
      "_model_name": "LayoutModel",
      "_view_count": null,
      "_view_module": "@jupyter-widgets/base",
      "_view_module_version": "1.2.0",
      "_view_name": "LayoutView",
      "align_content": null,
      "align_items": null,
      "align_self": null,
      "border": null,
      "bottom": null,
      "display": null,
      "flex": null,
      "flex_flow": null,
      "grid_area": null,
      "grid_auto_columns": null,
      "grid_auto_flow": null,
      "grid_auto_rows": null,
      "grid_column": null,
      "grid_gap": null,
      "grid_row": null,
      "grid_template_areas": null,
      "grid_template_columns": null,
      "grid_template_rows": null,
      "height": null,
      "justify_content": null,
      "justify_items": null,
      "left": null,
      "margin": null,
      "max_height": null,
      "max_width": null,
      "min_height": null,
      "min_width": null,
      "object_fit": null,
      "object_position": null,
      "order": null,
      "overflow": null,
      "overflow_x": null,
      "overflow_y": null,
      "padding": null,
      "right": null,
      "top": null,
      "visibility": null,
      "width": null
     }
    },
    "5aae455ed0164e748614cf13194ef9e7": {
     "model_module": "@jupyter-widgets/controls",
     "model_name": "HBoxModel",
     "state": {
      "_dom_classes": [],
      "_model_module": "@jupyter-widgets/controls",
      "_model_module_version": "1.5.0",
      "_model_name": "HBoxModel",
      "_view_count": null,
      "_view_module": "@jupyter-widgets/controls",
      "_view_module_version": "1.5.0",
      "_view_name": "HBoxView",
      "box_style": "",
      "children": [
       "IPY_MODEL_8fb1319436914287affd8d49094d0ec4",
       "IPY_MODEL_10f568b7d6334b49bf403b9d402d9f1f"
      ],
      "layout": "IPY_MODEL_0013ea1c15484ef58a2380ac65d7243b"
     }
    },
    "8fb1319436914287affd8d49094d0ec4": {
     "model_module": "@jupyter-widgets/controls",
     "model_name": "FloatProgressModel",
     "state": {
      "_dom_classes": [],
      "_model_module": "@jupyter-widgets/controls",
      "_model_module_version": "1.5.0",
      "_model_name": "FloatProgressModel",
      "_view_count": null,
      "_view_module": "@jupyter-widgets/controls",
      "_view_module_version": "1.5.0",
      "_view_name": "ProgressView",
      "bar_style": "success",
      "description": "100%",
      "description_tooltip": null,
      "layout": "IPY_MODEL_5654761bbdd84cf986a10447ee5129f1",
      "max": 526,
      "min": 0,
      "orientation": "horizontal",
      "style": "IPY_MODEL_47ac5113de3a42d499fd9c3cbf57aadf",
      "value": 526
     }
    },
    "b6d303e03921459e9564b4511308f99b": {
     "model_module": "@jupyter-widgets/base",
     "model_name": "LayoutModel",
     "state": {
      "_model_module": "@jupyter-widgets/base",
      "_model_module_version": "1.2.0",
      "_model_name": "LayoutModel",
      "_view_count": null,
      "_view_module": "@jupyter-widgets/base",
      "_view_module_version": "1.2.0",
      "_view_name": "LayoutView",
      "align_content": null,
      "align_items": null,
      "align_self": null,
      "border": null,
      "bottom": null,
      "display": null,
      "flex": null,
      "flex_flow": null,
      "grid_area": null,
      "grid_auto_columns": null,
      "grid_auto_flow": null,
      "grid_auto_rows": null,
      "grid_column": null,
      "grid_gap": null,
      "grid_row": null,
      "grid_template_areas": null,
      "grid_template_columns": null,
      "grid_template_rows": null,
      "height": null,
      "justify_content": null,
      "justify_items": null,
      "left": null,
      "margin": null,
      "max_height": null,
      "max_width": null,
      "min_height": null,
      "min_width": null,
      "object_fit": null,
      "object_position": null,
      "order": null,
      "overflow": null,
      "overflow_x": null,
      "overflow_y": null,
      "padding": null,
      "right": null,
      "top": null,
      "visibility": null,
      "width": null
     }
    }
   }
  }
 },
 "nbformat": 4,
 "nbformat_minor": 1
}